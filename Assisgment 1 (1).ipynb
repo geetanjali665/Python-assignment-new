{
 "cells": [
  {
   "cell_type": "markdown",
   "metadata": {},
   "source": [
    "1. In the below elements which of them are values or an expression? eg:- values can be integer or string and expressions will be mathematical operators.\n",
    "\n",
    " * -- expression\n",
    " \n",
    "'hello' -- values\n",
    "\n",
    "-87.8 -- values\n",
    "\n",
    "-  -- expression\n",
    "\n",
    "/ -- expression\n",
    "\n",
    "+ -- expression\n",
    "\n",
    "6 -- values\n"
   ]
  },
  {
   "cell_type": "markdown",
   "metadata": {},
   "source": [
    "\n",
    "2. What is the difference between string and variable?\n",
    "\n",
    " In python anything you assign to a  variable using quotes will be consider as a string so string is one of several type of a     variable.\n",
    "\n",
    "\n",
    " A variable can be like intger, string , float etc based on the value you assign to it.\n",
    "\n"
   ]
  },
  {
   "cell_type": "markdown",
   "metadata": {},
   "source": [
    "\n",
    "\n",
    "3. Describe three different data types.\n",
    "\n",
    " Numeric datatype - In numeric data type we can store number. integer , float and complex value are store in numeric datatype.\n",
    "\n",
    "Sequence Type - The string can be defined as the sequence of characters represented in the quotation marks. In Python, we can use single, double, or triple quotes to define a string.\n",
    "\n",
    "Boolean Type - Boolean type provides two built-in values, True and False. These values are used to determine the given statement true or false. It denotes by the class bool. True can be represented by any non-zero value or 'T' whereas false can be represented by the 0 or 'F'. "
   ]
  },
  {
   "cell_type": "markdown",
   "metadata": {},
   "source": [
    "4.  What is an expression made up of? What do all expressions do?\n",
    "   \n",
    "    expression is made of value , variable ,operators and calls to function. an interpreter evaluates the expression and           display the result.\n"
   ]
  },
  {
   "cell_type": "markdown",
   "metadata": {},
   "source": [
    "5. This assignment statements, like spam = 10. What is the difference between an expression and a statement?\n",
    "   \n",
    "    Statements do a thing, having some effect on what happens at runtime. (ex- a function call, an if statement.)\n",
    "\n",
    "    Expressions give back a value. (ex- a comparison gives a boolean value, an arithmetic operation gives a numerical value.)"
   ]
  },
  {
   "cell_type": "markdown",
   "metadata": {},
   "source": [
    "6. After running the following code, what does the variable bacon contain?\n",
    "   bacon = 22\n",
    "    bacon + 1\n",
    "  \n",
    "   bacon contains 23"
   ]
  },
  {
   "cell_type": "markdown",
   "metadata": {},
   "source": [
    "7. What should the values of the following two terms be?\n",
    "\n",
    "  'spam' + 'spamspam' = 'spamspamspam'\n",
    "    \n",
    "   'spam' * 3 = 'spamspamspam'\n"
   ]
  },
  {
   "cell_type": "markdown",
   "metadata": {},
   "source": [
    "8. Why is eggs a valid variable name while 100 is invalid?\n",
    "\n",
    "   As per rule any numerical value cant be variable name it give a syntax error so, 100 is a invalid variable name."
   ]
  },
  {
   "cell_type": "markdown",
   "metadata": {},
   "source": [
    "9. What three functions can be used to get the integer, floating-point number, or string version of a value?\n",
    "   \n",
    "   int()\n",
    "   str()\n",
    "   float()"
   ]
  },
  {
   "cell_type": "code",
   "execution_count": null,
   "metadata": {},
   "outputs": [],
   "source": [
    "10. Why does this expression cause an error? How can you fix it?\n",
    "    'I have eaten ' + 99 + ' burritos.'\n",
    "    \n",
    "    This expression caused a error because in this we are adding two different datatypes. for fixing the error we convert integer datatype into string datatype.\n",
    "    'I have eaten ' + str(99) + ' burritos.'\n",
    "    \n",
    "    \n"
   ]
  }
 ],
 "metadata": {
  "kernelspec": {
   "display_name": "Python 3",
   "language": "python",
   "name": "python3"
  },
  "language_info": {
   "codemirror_mode": {
    "name": "ipython",
    "version": 3
   },
   "file_extension": ".py",
   "mimetype": "text/x-python",
   "name": "python",
   "nbconvert_exporter": "python",
   "pygments_lexer": "ipython3",
   "version": "3.7.6"
  }
 },
 "nbformat": 4,
 "nbformat_minor": 4
}
